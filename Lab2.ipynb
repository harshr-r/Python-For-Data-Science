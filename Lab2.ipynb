{
  "nbformat": 4,
  "nbformat_minor": 0,
  "metadata": {
    "colab": {
      "provenance": []
    },
    "kernelspec": {
      "name": "python3",
      "display_name": "Python 3"
    },
    "language_info": {
      "name": "python"
    }
  },
  "cells": [
    {
      "cell_type": "code",
      "execution_count": null,
      "metadata": {
        "colab": {
          "base_uri": "https://localhost:8080/"
        },
        "id": "oHy1SemoB_D3",
        "outputId": "b9d0c6a6-470f-4c32-9a01-22fbf7445a20"
      },
      "outputs": [
        {
          "output_type": "stream",
          "name": "stdout",
          "text": [
            "Maximum:  30\n",
            "Minimum:  10\n",
            "Average:  16.0\n",
            "Slicing the marks of the student 1:  [11 12 12]\n",
            "\n",
            "\n",
            "Indexes of the students scoring High marks\n",
            "0\n",
            "2\n",
            "\n",
            "Reshaped Array (Subject-wise):\n",
            " [[10 11 14]\n",
            " [20 12 16]\n",
            " [30 12 19]]\n"
          ]
        }
      ],
      "source": [
        "import numpy as np\n",
        "\n",
        "stu_marks = np.array([\n",
        "    [10, 20, 30],\n",
        "    [11, 12, 12],\n",
        "    [14, 16, 19],\n",
        "])\n",
        "\n",
        "max = np.max(stu_marks)\n",
        "min = np.min(stu_marks)\n",
        "avg = np.average(stu_marks)\n",
        "\n",
        "print(\"Maximum: \", max)\n",
        "print(\"Minimum: \", min)\n",
        "print(\"Average: \",avg)\n",
        "\n",
        "print(\"Slicing the marks of the student 1: \", stu_marks[1])\n",
        "\n",
        "print(\"\\n\")\n",
        "print(\"Indexes of the students scoring High marks\")\n",
        "high = np.any(stu_marks > 12, axis=1)\n",
        "for h in range(len(high)):\n",
        "  if high[h] == True:\n",
        "    print(h)\n",
        "\n",
        "print(\"\\nReshaped Array (Subject-wise):\\n\", stu_marks.T)"
      ]
    }
  ]
}