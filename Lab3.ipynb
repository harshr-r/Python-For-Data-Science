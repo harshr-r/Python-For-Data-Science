{
  "nbformat": 4,
  "nbformat_minor": 0,
  "metadata": {
    "colab": {
      "provenance": []
    },
    "kernelspec": {
      "name": "python3",
      "display_name": "Python 3"
    },
    "language_info": {
      "name": "python"
    }
  },
  "cells": [
    {
      "cell_type": "code",
      "execution_count": 5,
      "metadata": {
        "colab": {
          "base_uri": "https://localhost:8080/"
        },
        "id": "fwuqnGSc0s53",
        "outputId": "700c9a12-5f8c-4c9a-a5fd-69c8f410efa0"
      },
      "outputs": [
        {
          "output_type": "stream",
          "name": "stdout",
          "text": [
            "Addition: \n",
            " [[10 10 10]\n",
            " [10 10 10]\n",
            " [10 10 10]]\n",
            "Subtraction: \n",
            " [[-8 -6 -4]\n",
            " [-2  0  2]\n",
            " [ 4  6  8]]\n"
          ]
        }
      ],
      "source": [
        "import numpy as np\n",
        "\n",
        "mat1 = np.array([[1, 2, 3], [4, 5, 6], [7, 8, 9]])\n",
        "mat2 = np.array([[9, 8, 7], [6, 5, 4], [3, 2, 1]])\n",
        "\n",
        "add = np.add(mat1, mat2)\n",
        "sub = np.subtract(mat1, mat2)\n",
        "\n",
        "print(\"Addition: \\n\", add)\n",
        "print(\"Subtraction: \\n\", sub)"
      ]
    },
    {
      "cell_type": "code",
      "source": [
        "import numpy as np\n",
        "\n",
        "mat1 = np.array([[1, 2, 3], [4, 5, 6], [7, 8, 9]])\n",
        "mat2 = np.array([[9, 8, 7], [6, 5, 4], [3, 2, 1]])\n",
        "\n",
        "dot = np.dot(mat1, mat2)\n",
        "\n",
        "print(\"Dot Product: \\n\", dot)"
      ],
      "metadata": {
        "colab": {
          "base_uri": "https://localhost:8080/"
        },
        "id": "KVk064_U2omz",
        "outputId": "67bdbf0c-af09-49e8-c403-795b4bf4a017"
      },
      "execution_count": 6,
      "outputs": [
        {
          "output_type": "stream",
          "name": "stdout",
          "text": [
            "Dot Product: \n",
            " [[ 30  24  18]\n",
            " [ 84  69  54]\n",
            " [138 114  90]]\n"
          ]
        }
      ]
    },
    {
      "cell_type": "markdown",
      "source": [
        "# Create a python script that\n",
        "1. Takes user input for name and marks\n",
        "2. Writes it to a file\n",
        "3. Reads and displays all entries"
      ],
      "metadata": {
        "id": "IEFZOHqa6IX3"
      }
    },
    {
      "cell_type": "code",
      "source": [
        "import csv\n",
        "\n",
        "with open(\"Student.csv\", \"w\", newline=\"\") as file:\n",
        "    writer = csv.writer(file)\n",
        "    for i in range(10):\n",
        "        name = input(f\"Enter name {i+1}: \")\n",
        "        marks = int(input(f\"Enter marks {i+1}: \"))\n",
        "        writer.writerow([name, marks])\n",
        "\n",
        "with open(\"Student.csv\", \"r\", newline=\"\") as file:\n",
        "    reader = csv.reader(file)\n",
        "    for row in reader:\n",
        "        print(row)"
      ],
      "metadata": {
        "id": "eLKBb0kQ6L-y"
      },
      "execution_count": null,
      "outputs": []
    }
  ]
}