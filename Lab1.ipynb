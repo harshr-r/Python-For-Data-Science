{
  "nbformat": 4,
  "nbformat_minor": 0,
  "metadata": {
    "colab": {
      "provenance": []
    },
    "kernelspec": {
      "name": "python3",
      "display_name": "Python 3"
    },
    "language_info": {
      "name": "python"
    }
  },
  "cells": [
    {
      "cell_type": "code",
      "execution_count": null,
      "metadata": {
        "colab": {
          "base_uri": "https://localhost:8080/"
        },
        "id": "i1YUQFxS_mmi",
        "outputId": "a5fd925b-7134-4b3d-a2f4-af08d297385f"
      },
      "outputs": [
        {
          "output_type": "stream",
          "name": "stdout",
          "text": [
            "Enter a number: 5\n",
            "Factorial of the number is: \n",
            "120\n"
          ]
        }
      ],
      "source": [
        "Number = int(input(\"Enter a number: \"))\n",
        "factorial = 1\n",
        "if Number < 1:\n",
        "  print(\"Error\")\n",
        "else:\n",
        "  while (Number > 1):\n",
        "    factorial = factorial * Number\n",
        "    Number = Number - 1\n",
        "  print(\"Factorial of the number is: \")\n",
        "  print(factorial)"
      ]
    },
    {
      "cell_type": "code",
      "source": [
        "# With recursion\n",
        "\n",
        "def factorial(n):\n",
        "  if n < 1 or n >=10:\n",
        "    return \"Error\"\n",
        "  elif n == 1:\n",
        "    return 1\n",
        "  else:\n",
        "    return n * factorial(n - 1)\n",
        "Number = int(input(\"Enter a number: \"))\n",
        "result = factorial(Number)\n",
        "print(\"Factorial of the number is: \")\n",
        "print(result)"
      ],
      "metadata": {
        "colab": {
          "base_uri": "https://localhost:8080/"
        },
        "id": "1mVTj7fSAnhq",
        "outputId": "1c566d7e-089d-47a7-9256-f42c9390e793"
      },
      "execution_count": null,
      "outputs": [
        {
          "output_type": "stream",
          "name": "stdout",
          "text": [
            "Enter a number: 5\n",
            "Factorial of the number is: \n",
            "120\n"
          ]
        }
      ]
    }
  ]
}